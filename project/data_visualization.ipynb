{
  "nbformat": 4,
  "nbformat_minor": 0,
  "metadata": {
    "colab": {
      "provenance": [],
      "collapsed_sections": []
    },
    "kernelspec": {
      "name": "python3",
      "display_name": "Python 3"
    },
    "language_info": {
      "name": "python"
    }
  },
  "cells": [
    {
      "cell_type": "markdown",
      "source": [
        "[![Open in Colab](https://colab.research.google.com/assets/colab-badge.svg)](https://colab.research.google.com/github/csikosmarci24/vitmav45-Mayuyu/blob/main/project/data_visualization.ipynb)"
      ],
      "metadata": {
        "id": "Ipcr65dZwQir"
      }
    },
    {
      "cell_type": "markdown",
      "source": [
        "# Libraries"
      ],
      "metadata": {
        "id": "uBksUC3pmt3k"
      }
    },
    {
      "cell_type": "code",
      "source": [
        "import torch\n",
        "\n",
        "!pip install pyvis\n",
        "\n",
        "# https://stackoverflow.com/questions/67285115/building-wheels-for-torch-sparse-in-colab-takes-forever\n",
        "!pip uninstall torch-scatter torch-sparse torch-geometric torch-cluster  --y\n",
        "!pip install torch-scatter -f https://data.pyg.org/whl/torch-{torch.__version__}.html\n",
        "!pip install torch-sparse -f https://data.pyg.org/whl/torch-{torch.__version__}.html\n",
        "!pip install torch-cluster -f https://data.pyg.org/whl/torch-{torch.__version__}.html\n",
        "!pip install git+https://github.com/pyg-team/pytorch_geometric.git"
      ],
      "metadata": {
        "colab": {
          "base_uri": "https://localhost:8080/"
        },
        "id": "0S-HuU-W2uo8",
        "outputId": "e510bcd7-65fe-4fcb-fb7b-227e47d107ec"
      },
      "execution_count": null,
      "outputs": [
        {
          "output_type": "stream",
          "name": "stdout",
          "text": [
            "Looking in indexes: https://pypi.org/simple, https://us-python.pkg.dev/colab-wheels/public/simple/\n",
            "Collecting pyvis\n",
            "  Downloading pyvis-0.3.0.tar.gz (592 kB)\n",
            "\u001b[K     |████████████████████████████████| 592 kB 21.5 MB/s \n",
            "\u001b[?25hRequirement already satisfied: jinja2>=2.9.6 in /usr/local/lib/python3.7/dist-packages (from pyvis) (2.11.3)\n",
            "Requirement already satisfied: networkx>=1.11 in /usr/local/lib/python3.7/dist-packages (from pyvis) (2.6.3)\n",
            "Requirement already satisfied: ipython>=5.3.0 in /usr/local/lib/python3.7/dist-packages (from pyvis) (7.9.0)\n",
            "Collecting jsonpickle>=1.4.1\n",
            "  Downloading jsonpickle-2.2.0-py2.py3-none-any.whl (39 kB)\n",
            "Requirement already satisfied: traitlets>=4.2 in /usr/local/lib/python3.7/dist-packages (from ipython>=5.3.0->pyvis) (5.1.1)\n",
            "Requirement already satisfied: decorator in /usr/local/lib/python3.7/dist-packages (from ipython>=5.3.0->pyvis) (4.4.2)\n",
            "Requirement already satisfied: pickleshare in /usr/local/lib/python3.7/dist-packages (from ipython>=5.3.0->pyvis) (0.7.5)\n",
            "Requirement already satisfied: prompt-toolkit<2.1.0,>=2.0.0 in /usr/local/lib/python3.7/dist-packages (from ipython>=5.3.0->pyvis) (2.0.10)\n",
            "Requirement already satisfied: pexpect in /usr/local/lib/python3.7/dist-packages (from ipython>=5.3.0->pyvis) (4.8.0)\n",
            "Requirement already satisfied: backcall in /usr/local/lib/python3.7/dist-packages (from ipython>=5.3.0->pyvis) (0.2.0)\n",
            "Requirement already satisfied: setuptools>=18.5 in /usr/local/lib/python3.7/dist-packages (from ipython>=5.3.0->pyvis) (57.4.0)\n",
            "Collecting jedi>=0.10\n",
            "  Downloading jedi-0.18.1-py2.py3-none-any.whl (1.6 MB)\n",
            "\u001b[K     |████████████████████████████████| 1.6 MB 55.4 MB/s \n",
            "\u001b[?25hRequirement already satisfied: pygments in /usr/local/lib/python3.7/dist-packages (from ipython>=5.3.0->pyvis) (2.6.1)\n",
            "Requirement already satisfied: parso<0.9.0,>=0.8.0 in /usr/local/lib/python3.7/dist-packages (from jedi>=0.10->ipython>=5.3.0->pyvis) (0.8.3)\n",
            "Requirement already satisfied: MarkupSafe>=0.23 in /usr/local/lib/python3.7/dist-packages (from jinja2>=2.9.6->pyvis) (2.0.1)\n",
            "Requirement already satisfied: importlib-metadata in /usr/local/lib/python3.7/dist-packages (from jsonpickle>=1.4.1->pyvis) (4.13.0)\n",
            "Requirement already satisfied: wcwidth in /usr/local/lib/python3.7/dist-packages (from prompt-toolkit<2.1.0,>=2.0.0->ipython>=5.3.0->pyvis) (0.2.5)\n",
            "Requirement already satisfied: six>=1.9.0 in /usr/local/lib/python3.7/dist-packages (from prompt-toolkit<2.1.0,>=2.0.0->ipython>=5.3.0->pyvis) (1.15.0)\n",
            "Requirement already satisfied: zipp>=0.5 in /usr/local/lib/python3.7/dist-packages (from importlib-metadata->jsonpickle>=1.4.1->pyvis) (3.9.0)\n",
            "Requirement already satisfied: typing-extensions>=3.6.4 in /usr/local/lib/python3.7/dist-packages (from importlib-metadata->jsonpickle>=1.4.1->pyvis) (4.1.1)\n",
            "Requirement already satisfied: ptyprocess>=0.5 in /usr/local/lib/python3.7/dist-packages (from pexpect->ipython>=5.3.0->pyvis) (0.7.0)\n",
            "Building wheels for collected packages: pyvis\n",
            "  Building wheel for pyvis (setup.py) ... \u001b[?25l\u001b[?25hdone\n",
            "  Created wheel for pyvis: filename=pyvis-0.3.0-py3-none-any.whl size=600250 sha256=d401de21437ab26f46f43cfb344b2d8ff9b3cd6445e4a25f31fdee75a256b277\n",
            "  Stored in directory: /root/.cache/pip/wheels/57/74/32/e404e0d76fbb2dc4e3791b821cfae6a69c1a6677ded99dc8b7\n",
            "Successfully built pyvis\n",
            "Installing collected packages: jedi, jsonpickle, pyvis\n",
            "Successfully installed jedi-0.18.1 jsonpickle-2.2.0 pyvis-0.3.0\n",
            "\u001b[33mWARNING: Skipping torch-scatter as it is not installed.\u001b[0m\n",
            "\u001b[33mWARNING: Skipping torch-sparse as it is not installed.\u001b[0m\n",
            "\u001b[33mWARNING: Skipping torch-geometric as it is not installed.\u001b[0m\n",
            "\u001b[33mWARNING: Skipping torch-cluster as it is not installed.\u001b[0m\n",
            "Looking in indexes: https://pypi.org/simple, https://us-python.pkg.dev/colab-wheels/public/simple/\n",
            "Looking in links: https://data.pyg.org/whl/torch-1.12.1+cu113.html\n",
            "Collecting torch-scatter\n",
            "  Downloading https://data.pyg.org/whl/torch-1.12.0%2Bcu113/torch_scatter-2.0.9-cp37-cp37m-linux_x86_64.whl (7.9 MB)\n",
            "\u001b[K     |████████████████████████████████| 7.9 MB 24.5 MB/s \n",
            "\u001b[?25hInstalling collected packages: torch-scatter\n",
            "Successfully installed torch-scatter-2.0.9\n",
            "Looking in indexes: https://pypi.org/simple, https://us-python.pkg.dev/colab-wheels/public/simple/\n",
            "Looking in links: https://data.pyg.org/whl/torch-1.12.1+cu113.html\n",
            "Collecting torch-sparse\n",
            "  Downloading https://data.pyg.org/whl/torch-1.12.0%2Bcu113/torch_sparse-0.6.15-cp37-cp37m-linux_x86_64.whl (3.5 MB)\n",
            "\u001b[K     |████████████████████████████████| 3.5 MB 21.0 MB/s \n",
            "\u001b[?25hRequirement already satisfied: scipy in /usr/local/lib/python3.7/dist-packages (from torch-sparse) (1.7.3)\n",
            "Requirement already satisfied: numpy<1.23.0,>=1.16.5 in /usr/local/lib/python3.7/dist-packages (from scipy->torch-sparse) (1.21.6)\n",
            "Installing collected packages: torch-sparse\n",
            "Successfully installed torch-sparse-0.6.15\n",
            "Looking in indexes: https://pypi.org/simple, https://us-python.pkg.dev/colab-wheels/public/simple/\n",
            "Looking in links: https://data.pyg.org/whl/torch-1.12.1+cu113.html\n",
            "Collecting torch-cluster\n",
            "  Downloading https://data.pyg.org/whl/torch-1.12.0%2Bcu113/torch_cluster-1.6.0-cp37-cp37m-linux_x86_64.whl (2.4 MB)\n",
            "\u001b[K     |████████████████████████████████| 2.4 MB 26.7 MB/s \n",
            "\u001b[?25hInstalling collected packages: torch-cluster\n",
            "Successfully installed torch-cluster-1.6.0\n",
            "Looking in indexes: https://pypi.org/simple, https://us-python.pkg.dev/colab-wheels/public/simple/\n",
            "Collecting git+https://github.com/pyg-team/pytorch_geometric.git\n",
            "  Cloning https://github.com/pyg-team/pytorch_geometric.git to /tmp/pip-req-build-h2z2tqy8\n",
            "  Running command git clone -q https://github.com/pyg-team/pytorch_geometric.git /tmp/pip-req-build-h2z2tqy8\n",
            "Requirement already satisfied: tqdm in /usr/local/lib/python3.7/dist-packages (from torch-geometric==2.1.0) (4.64.1)\n",
            "Requirement already satisfied: numpy in /usr/local/lib/python3.7/dist-packages (from torch-geometric==2.1.0) (1.21.6)\n",
            "Requirement already satisfied: scipy in /usr/local/lib/python3.7/dist-packages (from torch-geometric==2.1.0) (1.7.3)\n",
            "Requirement already satisfied: jinja2 in /usr/local/lib/python3.7/dist-packages (from torch-geometric==2.1.0) (2.11.3)\n",
            "Requirement already satisfied: requests in /usr/local/lib/python3.7/dist-packages (from torch-geometric==2.1.0) (2.23.0)\n",
            "Requirement already satisfied: pyparsing in /usr/local/lib/python3.7/dist-packages (from torch-geometric==2.1.0) (3.0.9)\n",
            "Requirement already satisfied: scikit-learn in /usr/local/lib/python3.7/dist-packages (from torch-geometric==2.1.0) (1.0.2)\n",
            "Requirement already satisfied: MarkupSafe>=0.23 in /usr/local/lib/python3.7/dist-packages (from jinja2->torch-geometric==2.1.0) (2.0.1)\n",
            "Requirement already satisfied: idna<3,>=2.5 in /usr/local/lib/python3.7/dist-packages (from requests->torch-geometric==2.1.0) (2.10)\n",
            "Requirement already satisfied: chardet<4,>=3.0.2 in /usr/local/lib/python3.7/dist-packages (from requests->torch-geometric==2.1.0) (3.0.4)\n",
            "Requirement already satisfied: urllib3!=1.25.0,!=1.25.1,<1.26,>=1.21.1 in /usr/local/lib/python3.7/dist-packages (from requests->torch-geometric==2.1.0) (1.24.3)\n",
            "Requirement already satisfied: certifi>=2017.4.17 in /usr/local/lib/python3.7/dist-packages (from requests->torch-geometric==2.1.0) (2022.9.24)\n",
            "Requirement already satisfied: joblib>=0.11 in /usr/local/lib/python3.7/dist-packages (from scikit-learn->torch-geometric==2.1.0) (1.2.0)\n",
            "Requirement already satisfied: threadpoolctl>=2.0.0 in /usr/local/lib/python3.7/dist-packages (from scikit-learn->torch-geometric==2.1.0) (3.1.0)\n",
            "Building wheels for collected packages: torch-geometric\n",
            "  Building wheel for torch-geometric (setup.py) ... \u001b[?25l\u001b[?25hdone\n",
            "  Created wheel for torch-geometric: filename=torch_geometric-2.1.0-py3-none-any.whl size=735819 sha256=23fc4a3c040423036011194b977befb95d39a8091d9cc47cd74f82640a29ea10\n",
            "  Stored in directory: /tmp/pip-ephem-wheel-cache-kn7iswsp/wheels/85/c9/07/7936efecad79b906348a7e9fb644d914160544efa9aa7f4b2b\n",
            "Successfully built torch-geometric\n",
            "Installing collected packages: torch-geometric\n",
            "Successfully installed torch-geometric-2.1.0\n"
          ]
        }
      ]
    },
    {
      "cell_type": "code",
      "source": [
        "import gzip\n",
        "import zipfile\n",
        "import pandas as pd\n",
        "import networkx as nx\n",
        "from pyvis import network as net\n",
        "from IPython.core.display import display, HTML\n",
        "from torch_geometric.utils.convert import from_networkx\n",
        "import xml.etree.ElementTree as ET\n",
        "import collections"
      ],
      "metadata": {
        "id": "gasWwsPXs112"
      },
      "execution_count": null,
      "outputs": []
    },
    {
      "cell_type": "markdown",
      "source": [
        "# Download from Google Drive"
      ],
      "metadata": {
        "id": "d31ksL_HBSv7"
      }
    },
    {
      "cell_type": "code",
      "execution_count": null,
      "metadata": {
        "colab": {
          "base_uri": "https://localhost:8080/"
        },
        "id": "3pXye9_svbNo",
        "outputId": "53d64016-314d-44cd-9473-07bfe93bf9d0"
      },
      "outputs": [
        {
          "output_type": "stream",
          "name": "stdout",
          "text": [
            "Downloading...\n",
            "From: https://drive.google.com/uc?id=1Ot-ICpiJRlisFvM9Fi6TM3Q6kAZaLS0y\n",
            "To: /content/ChCh-Miner_durgbank-chem-chem.tsv.gz\n",
            "100% 207k/207k [00:00<00:00, 82.8MB/s]\n",
            "Downloading...\n",
            "From: https://drive.google.com/uc?id=1LSdAthCa69kWRIKoI5UmclLgf4OsSNAm\n",
            "To: /content/drugbank_all_full_database.xml.zip\n",
            "100% 152M/152M [00:03<00:00, 46.3MB/s]\n",
            "Downloading...\n",
            "From: https://drive.google.com/uc?id=15_hqow9NT_M49OX7cXrG5P6vCgfbKyhP\n",
            "To: /content/drugbank.xsd\n",
            "100% 43.2k/43.2k [00:00<00:00, 58.6MB/s]\n"
          ]
        }
      ],
      "source": [
        "# graph\n",
        "!gdown 1Ot-ICpiJRlisFvM9Fi6TM3Q6kAZaLS0y\n",
        "# DrugBank\n",
        "!gdown 1LSdAthCa69kWRIKoI5UmclLgf4OsSNAm\n",
        "# xsd\n",
        "!gdown 15_hqow9NT_M49OX7cXrG5P6vCgfbKyhP"
      ]
    },
    {
      "cell_type": "markdown",
      "source": [
        "# Process DrugBank database\n",
        "(based on https://github.com/dhimmel/drugbank/blob/gh-pages/parse.ipynb)"
      ],
      "metadata": {
        "id": "JEuqSme-RMmX"
      }
    },
    {
      "cell_type": "code",
      "source": [
        "with zipfile.ZipFile('drugbank_all_full_database.xml.zip', 'r').open('full database.xml') as xml_file:\n",
        "    tree = ET.parse(xml_file)\n",
        "root = tree.getroot()"
      ],
      "metadata": {
        "id": "2PzYNZC5OR8u"
      },
      "execution_count": null,
      "outputs": []
    },
    {
      "cell_type": "code",
      "source": [
        "ns = '{http://www.drugbank.ca}'\n",
        "inchikey_template = \"{ns}calculated-properties/{ns}property[{ns}kind='InChIKey']/{ns}value\"\n",
        "inchi_template = \"{ns}calculated-properties/{ns}property[{ns}kind='InChI']/{ns}value\"\n",
        "\n",
        "rows = list()\n",
        "for i, drug in enumerate(root):\n",
        "    row = collections.OrderedDict()\n",
        "    assert drug.tag == ns + 'drug'\n",
        "    row['type'] = drug.get('type')\n",
        "    row['drugbank_id'] = drug.findtext(ns + \"drugbank-id[@primary='true']\")\n",
        "    row['name'] = drug.findtext(ns + \"name\")\n",
        "    row['description'] = drug.findtext(ns + \"description\")\n",
        "    row['groups'] = [group.text for group in\n",
        "        drug.findall(\"{ns}groups/{ns}group\".format(ns = ns))]\n",
        "    row['atc_codes'] = [code.get('code') for code in\n",
        "        drug.findall(\"{ns}atc-codes/{ns}atc-code\".format(ns = ns))]\n",
        "    row['categories'] = [x.findtext(ns + 'category') for x in\n",
        "        drug.findall(\"{ns}categories/{ns}category\".format(ns = ns))]\n",
        "    row['inchi'] = drug.findtext(inchi_template.format(ns = ns))\n",
        "    row['inchikey'] = drug.findtext(inchikey_template.format(ns = ns))\n",
        "    \n",
        "    # Add drug aliases\n",
        "    aliases = {\n",
        "        elem.text for elem in \n",
        "        drug.findall(\"{ns}international-brands/{ns}international-brand\".format(ns = ns)) +\n",
        "        drug.findall(\"{ns}synonyms/{ns}synonym[@language='English']\".format(ns = ns)) +\n",
        "        drug.findall(\"{ns}international-brands/{ns}international-brand\".format(ns = ns)) +\n",
        "        drug.findall(\"{ns}products/{ns}product/{ns}name\".format(ns = ns))\n",
        "\n",
        "    }\n",
        "    aliases.add(row['name'])\n",
        "    row['aliases'] = sorted(aliases)\n",
        "\n",
        "    rows.append(row)"
      ],
      "metadata": {
        "id": "DMV0p8H9P9rH"
      },
      "execution_count": null,
      "outputs": []
    },
    {
      "cell_type": "code",
      "source": [
        "def collapse_list_values(row):\n",
        "    for key, value in row.items():\n",
        "        if isinstance(value, list):\n",
        "            row[key] = '|'.join(value)\n",
        "    return row\n",
        "\n",
        "rows = list(map(collapse_list_values, rows))"
      ],
      "metadata": {
        "id": "UupPLDPdQN2u"
      },
      "execution_count": null,
      "outputs": []
    },
    {
      "cell_type": "code",
      "source": [
        "columns = ['drugbank_id', 'name', 'type', 'groups', 'atc_codes', 'categories', 'inchikey', 'inchi', 'description']\n",
        "drugbank_df = pd.DataFrame.from_dict(rows)[columns]\n",
        "drugbank_df"
      ],
      "metadata": {
        "colab": {
          "base_uri": "https://localhost:8080/",
          "height": 641
        },
        "id": "UDd-ufhKQQmI",
        "outputId": "5dc36939-3c03-4e5d-d1c8-59e931d7f1a8"
      },
      "execution_count": null,
      "outputs": [
        {
          "output_type": "execute_result",
          "data": {
            "text/plain": [
              "      drugbank_id                     name            type  \\\n",
              "0         DB00001                Lepirudin         biotech   \n",
              "1         DB00002                Cetuximab         biotech   \n",
              "2         DB00003             Dornase alfa         biotech   \n",
              "3         DB00004      Denileukin diftitox         biotech   \n",
              "4         DB00005               Etanercept         biotech   \n",
              "...           ...                      ...             ...   \n",
              "14589     DB16742                 RP-67580  small molecule   \n",
              "14590     DB16743    Nolpitantium chloride  small molecule   \n",
              "14591     DB16744                 CP-96345  small molecule   \n",
              "14592     DB16745                 PXT 3003  small molecule   \n",
              "14593     DB16746  Elivaldogene autotemcel         biotech   \n",
              "\n",
              "                         groups atc_codes  \\\n",
              "0                      approved   B01AE02   \n",
              "1                      approved   L01XC06   \n",
              "2                      approved   R05CB13   \n",
              "3      approved|investigational   L01XX29   \n",
              "4      approved|investigational   L04AB01   \n",
              "...                         ...       ...   \n",
              "14589              experimental             \n",
              "14590              experimental             \n",
              "14591              experimental             \n",
              "14592           investigational             \n",
              "14593                  approved             \n",
              "\n",
              "                                              categories  \\\n",
              "0      Amino Acids, Peptides, and Proteins|Anticoagul...   \n",
              "1      Amino Acids, Peptides, and Proteins|Antibodies...   \n",
              "2      Amino Acids, Peptides, and Proteins|Cough and ...   \n",
              "3      ADP Ribose Transferases|Amino Acids, Peptides,...   \n",
              "4      Agents reducing cytokine levels|Amino Acids, P...   \n",
              "...                                                  ...   \n",
              "14589  Heterocyclic Compounds, Fused-Ring|Neurokinin-...   \n",
              "14590                                                      \n",
              "14591  Analgesics|Analgesics, Non-Narcotic|Anti-Infla...   \n",
              "14592                                                      \n",
              "14593                          Cellular and Gene Therapy   \n",
              "\n",
              "                          inchikey  \\\n",
              "0                             None   \n",
              "1                             None   \n",
              "2                             None   \n",
              "3                             None   \n",
              "4                             None   \n",
              "...                            ...   \n",
              "14589                         None   \n",
              "14590                         None   \n",
              "14591                         None   \n",
              "14592  WRUIDZKNUAHKTR-UHFFFAOYSA-N   \n",
              "14593                         None   \n",
              "\n",
              "                                                   inchi  \\\n",
              "0                                                   None   \n",
              "1                                                   None   \n",
              "2                                                   None   \n",
              "3                                                   None   \n",
              "4                                                   None   \n",
              "...                                                  ...   \n",
              "14589                                               None   \n",
              "14590                                               None   \n",
              "14591                                               None   \n",
              "14592  InChI=1S/C21H27N3O2/c1-2-26-21(25)17-13-19(22-...   \n",
              "14593                                               None   \n",
              "\n",
              "                                             description  \n",
              "0      Lepirudin is identical to natural hirudin exce...  \n",
              "1      Cetuximab is a recombinant chimeric human/mous...  \n",
              "2      Dornase alfa is a biosynthetic form of human d...  \n",
              "3      A recombinant DNA-derived cytotoxic protein co...  \n",
              "4      Dimeric fusion protein consisting of the extra...  \n",
              "...                                                  ...  \n",
              "14589                                                     \n",
              "14590                                                     \n",
              "14591                                                     \n",
              "14592  PXT 3003 is in phase 3 clinical trials for the...  \n",
              "14593  Adrenoleukodystrophy (ALD) is an X-linked gene...  \n",
              "\n",
              "[14594 rows x 9 columns]"
            ],
            "text/html": [
              "\n",
              "  <div id=\"df-1fa821d9-a03a-48bd-bd1b-19e711dc1574\">\n",
              "    <div class=\"colab-df-container\">\n",
              "      <div>\n",
              "<style scoped>\n",
              "    .dataframe tbody tr th:only-of-type {\n",
              "        vertical-align: middle;\n",
              "    }\n",
              "\n",
              "    .dataframe tbody tr th {\n",
              "        vertical-align: top;\n",
              "    }\n",
              "\n",
              "    .dataframe thead th {\n",
              "        text-align: right;\n",
              "    }\n",
              "</style>\n",
              "<table border=\"1\" class=\"dataframe\">\n",
              "  <thead>\n",
              "    <tr style=\"text-align: right;\">\n",
              "      <th></th>\n",
              "      <th>drugbank_id</th>\n",
              "      <th>name</th>\n",
              "      <th>type</th>\n",
              "      <th>groups</th>\n",
              "      <th>atc_codes</th>\n",
              "      <th>categories</th>\n",
              "      <th>inchikey</th>\n",
              "      <th>inchi</th>\n",
              "      <th>description</th>\n",
              "    </tr>\n",
              "  </thead>\n",
              "  <tbody>\n",
              "    <tr>\n",
              "      <th>0</th>\n",
              "      <td>DB00001</td>\n",
              "      <td>Lepirudin</td>\n",
              "      <td>biotech</td>\n",
              "      <td>approved</td>\n",
              "      <td>B01AE02</td>\n",
              "      <td>Amino Acids, Peptides, and Proteins|Anticoagul...</td>\n",
              "      <td>None</td>\n",
              "      <td>None</td>\n",
              "      <td>Lepirudin is identical to natural hirudin exce...</td>\n",
              "    </tr>\n",
              "    <tr>\n",
              "      <th>1</th>\n",
              "      <td>DB00002</td>\n",
              "      <td>Cetuximab</td>\n",
              "      <td>biotech</td>\n",
              "      <td>approved</td>\n",
              "      <td>L01XC06</td>\n",
              "      <td>Amino Acids, Peptides, and Proteins|Antibodies...</td>\n",
              "      <td>None</td>\n",
              "      <td>None</td>\n",
              "      <td>Cetuximab is a recombinant chimeric human/mous...</td>\n",
              "    </tr>\n",
              "    <tr>\n",
              "      <th>2</th>\n",
              "      <td>DB00003</td>\n",
              "      <td>Dornase alfa</td>\n",
              "      <td>biotech</td>\n",
              "      <td>approved</td>\n",
              "      <td>R05CB13</td>\n",
              "      <td>Amino Acids, Peptides, and Proteins|Cough and ...</td>\n",
              "      <td>None</td>\n",
              "      <td>None</td>\n",
              "      <td>Dornase alfa is a biosynthetic form of human d...</td>\n",
              "    </tr>\n",
              "    <tr>\n",
              "      <th>3</th>\n",
              "      <td>DB00004</td>\n",
              "      <td>Denileukin diftitox</td>\n",
              "      <td>biotech</td>\n",
              "      <td>approved|investigational</td>\n",
              "      <td>L01XX29</td>\n",
              "      <td>ADP Ribose Transferases|Amino Acids, Peptides,...</td>\n",
              "      <td>None</td>\n",
              "      <td>None</td>\n",
              "      <td>A recombinant DNA-derived cytotoxic protein co...</td>\n",
              "    </tr>\n",
              "    <tr>\n",
              "      <th>4</th>\n",
              "      <td>DB00005</td>\n",
              "      <td>Etanercept</td>\n",
              "      <td>biotech</td>\n",
              "      <td>approved|investigational</td>\n",
              "      <td>L04AB01</td>\n",
              "      <td>Agents reducing cytokine levels|Amino Acids, P...</td>\n",
              "      <td>None</td>\n",
              "      <td>None</td>\n",
              "      <td>Dimeric fusion protein consisting of the extra...</td>\n",
              "    </tr>\n",
              "    <tr>\n",
              "      <th>...</th>\n",
              "      <td>...</td>\n",
              "      <td>...</td>\n",
              "      <td>...</td>\n",
              "      <td>...</td>\n",
              "      <td>...</td>\n",
              "      <td>...</td>\n",
              "      <td>...</td>\n",
              "      <td>...</td>\n",
              "      <td>...</td>\n",
              "    </tr>\n",
              "    <tr>\n",
              "      <th>14589</th>\n",
              "      <td>DB16742</td>\n",
              "      <td>RP-67580</td>\n",
              "      <td>small molecule</td>\n",
              "      <td>experimental</td>\n",
              "      <td></td>\n",
              "      <td>Heterocyclic Compounds, Fused-Ring|Neurokinin-...</td>\n",
              "      <td>None</td>\n",
              "      <td>None</td>\n",
              "      <td></td>\n",
              "    </tr>\n",
              "    <tr>\n",
              "      <th>14590</th>\n",
              "      <td>DB16743</td>\n",
              "      <td>Nolpitantium chloride</td>\n",
              "      <td>small molecule</td>\n",
              "      <td>experimental</td>\n",
              "      <td></td>\n",
              "      <td></td>\n",
              "      <td>None</td>\n",
              "      <td>None</td>\n",
              "      <td></td>\n",
              "    </tr>\n",
              "    <tr>\n",
              "      <th>14591</th>\n",
              "      <td>DB16744</td>\n",
              "      <td>CP-96345</td>\n",
              "      <td>small molecule</td>\n",
              "      <td>experimental</td>\n",
              "      <td></td>\n",
              "      <td>Analgesics|Analgesics, Non-Narcotic|Anti-Infla...</td>\n",
              "      <td>None</td>\n",
              "      <td>None</td>\n",
              "      <td></td>\n",
              "    </tr>\n",
              "    <tr>\n",
              "      <th>14592</th>\n",
              "      <td>DB16745</td>\n",
              "      <td>PXT 3003</td>\n",
              "      <td>small molecule</td>\n",
              "      <td>investigational</td>\n",
              "      <td></td>\n",
              "      <td></td>\n",
              "      <td>WRUIDZKNUAHKTR-UHFFFAOYSA-N</td>\n",
              "      <td>InChI=1S/C21H27N3O2/c1-2-26-21(25)17-13-19(22-...</td>\n",
              "      <td>PXT 3003 is in phase 3 clinical trials for the...</td>\n",
              "    </tr>\n",
              "    <tr>\n",
              "      <th>14593</th>\n",
              "      <td>DB16746</td>\n",
              "      <td>Elivaldogene autotemcel</td>\n",
              "      <td>biotech</td>\n",
              "      <td>approved</td>\n",
              "      <td></td>\n",
              "      <td>Cellular and Gene Therapy</td>\n",
              "      <td>None</td>\n",
              "      <td>None</td>\n",
              "      <td>Adrenoleukodystrophy (ALD) is an X-linked gene...</td>\n",
              "    </tr>\n",
              "  </tbody>\n",
              "</table>\n",
              "<p>14594 rows × 9 columns</p>\n",
              "</div>\n",
              "      <button class=\"colab-df-convert\" onclick=\"convertToInteractive('df-1fa821d9-a03a-48bd-bd1b-19e711dc1574')\"\n",
              "              title=\"Convert this dataframe to an interactive table.\"\n",
              "              style=\"display:none;\">\n",
              "        \n",
              "  <svg xmlns=\"http://www.w3.org/2000/svg\" height=\"24px\"viewBox=\"0 0 24 24\"\n",
              "       width=\"24px\">\n",
              "    <path d=\"M0 0h24v24H0V0z\" fill=\"none\"/>\n",
              "    <path d=\"M18.56 5.44l.94 2.06.94-2.06 2.06-.94-2.06-.94-.94-2.06-.94 2.06-2.06.94zm-11 1L8.5 8.5l.94-2.06 2.06-.94-2.06-.94L8.5 2.5l-.94 2.06-2.06.94zm10 10l.94 2.06.94-2.06 2.06-.94-2.06-.94-.94-2.06-.94 2.06-2.06.94z\"/><path d=\"M17.41 7.96l-1.37-1.37c-.4-.4-.92-.59-1.43-.59-.52 0-1.04.2-1.43.59L10.3 9.45l-7.72 7.72c-.78.78-.78 2.05 0 2.83L4 21.41c.39.39.9.59 1.41.59.51 0 1.02-.2 1.41-.59l7.78-7.78 2.81-2.81c.8-.78.8-2.07 0-2.86zM5.41 20L4 18.59l7.72-7.72 1.47 1.35L5.41 20z\"/>\n",
              "  </svg>\n",
              "      </button>\n",
              "      \n",
              "  <style>\n",
              "    .colab-df-container {\n",
              "      display:flex;\n",
              "      flex-wrap:wrap;\n",
              "      gap: 12px;\n",
              "    }\n",
              "\n",
              "    .colab-df-convert {\n",
              "      background-color: #E8F0FE;\n",
              "      border: none;\n",
              "      border-radius: 50%;\n",
              "      cursor: pointer;\n",
              "      display: none;\n",
              "      fill: #1967D2;\n",
              "      height: 32px;\n",
              "      padding: 0 0 0 0;\n",
              "      width: 32px;\n",
              "    }\n",
              "\n",
              "    .colab-df-convert:hover {\n",
              "      background-color: #E2EBFA;\n",
              "      box-shadow: 0px 1px 2px rgba(60, 64, 67, 0.3), 0px 1px 3px 1px rgba(60, 64, 67, 0.15);\n",
              "      fill: #174EA6;\n",
              "    }\n",
              "\n",
              "    [theme=dark] .colab-df-convert {\n",
              "      background-color: #3B4455;\n",
              "      fill: #D2E3FC;\n",
              "    }\n",
              "\n",
              "    [theme=dark] .colab-df-convert:hover {\n",
              "      background-color: #434B5C;\n",
              "      box-shadow: 0px 1px 3px 1px rgba(0, 0, 0, 0.15);\n",
              "      filter: drop-shadow(0px 1px 2px rgba(0, 0, 0, 0.3));\n",
              "      fill: #FFFFFF;\n",
              "    }\n",
              "  </style>\n",
              "\n",
              "      <script>\n",
              "        const buttonEl =\n",
              "          document.querySelector('#df-1fa821d9-a03a-48bd-bd1b-19e711dc1574 button.colab-df-convert');\n",
              "        buttonEl.style.display =\n",
              "          google.colab.kernel.accessAllowed ? 'block' : 'none';\n",
              "\n",
              "        async function convertToInteractive(key) {\n",
              "          const element = document.querySelector('#df-1fa821d9-a03a-48bd-bd1b-19e711dc1574');\n",
              "          const dataTable =\n",
              "            await google.colab.kernel.invokeFunction('convertToInteractive',\n",
              "                                                     [key], {});\n",
              "          if (!dataTable) return;\n",
              "\n",
              "          const docLinkHtml = 'Like what you see? Visit the ' +\n",
              "            '<a target=\"_blank\" href=https://colab.research.google.com/notebooks/data_table.ipynb>data table notebook</a>'\n",
              "            + ' to learn more about interactive tables.';\n",
              "          element.innerHTML = '';\n",
              "          dataTable['output_type'] = 'display_data';\n",
              "          await google.colab.output.renderOutput(dataTable, element);\n",
              "          const docLink = document.createElement('div');\n",
              "          docLink.innerHTML = docLinkHtml;\n",
              "          element.appendChild(docLink);\n",
              "        }\n",
              "      </script>\n",
              "    </div>\n",
              "  </div>\n",
              "  "
            ]
          },
          "metadata": {},
          "execution_count": 8
        }
      ]
    },
    {
      "cell_type": "markdown",
      "source": [
        "# Visualize graph"
      ],
      "metadata": {
        "id": "SJ7YsnARm6fl"
      }
    },
    {
      "cell_type": "code",
      "source": [
        "with gzip.open('ChCh-Miner_durgbank-chem-chem.tsv.gz') as f:\n",
        "    graph_df = pd.read_csv(f, delimiter='\\t', names=['Source', 'Target'])"
      ],
      "metadata": {
        "id": "FM67cE7q4Lfr"
      },
      "execution_count": null,
      "outputs": []
    },
    {
      "cell_type": "code",
      "source": [
        "graph_df"
      ],
      "metadata": {
        "colab": {
          "base_uri": "https://localhost:8080/",
          "height": 424
        },
        "id": "T_MAcxzK4zJK",
        "outputId": "28bc6cc7-dab3-4182-bed5-289c98d15f07"
      },
      "execution_count": null,
      "outputs": [
        {
          "output_type": "execute_result",
          "data": {
            "text/plain": [
              "        Source   Target\n",
              "0      DB00862  DB00966\n",
              "1      DB00575  DB00806\n",
              "2      DB01242  DB08893\n",
              "3      DB01151  DB08883\n",
              "4      DB01235  DB01275\n",
              "...        ...      ...\n",
              "48509  DB00542  DB01354\n",
              "48510  DB00476  DB01239\n",
              "48511  DB00621  DB01120\n",
              "48512  DB00808  DB01356\n",
              "48513  DB00677  DB06287\n",
              "\n",
              "[48514 rows x 2 columns]"
            ],
            "text/html": [
              "\n",
              "  <div id=\"df-b1202970-6086-4cbf-aab4-705709948089\">\n",
              "    <div class=\"colab-df-container\">\n",
              "      <div>\n",
              "<style scoped>\n",
              "    .dataframe tbody tr th:only-of-type {\n",
              "        vertical-align: middle;\n",
              "    }\n",
              "\n",
              "    .dataframe tbody tr th {\n",
              "        vertical-align: top;\n",
              "    }\n",
              "\n",
              "    .dataframe thead th {\n",
              "        text-align: right;\n",
              "    }\n",
              "</style>\n",
              "<table border=\"1\" class=\"dataframe\">\n",
              "  <thead>\n",
              "    <tr style=\"text-align: right;\">\n",
              "      <th></th>\n",
              "      <th>Source</th>\n",
              "      <th>Target</th>\n",
              "    </tr>\n",
              "  </thead>\n",
              "  <tbody>\n",
              "    <tr>\n",
              "      <th>0</th>\n",
              "      <td>DB00862</td>\n",
              "      <td>DB00966</td>\n",
              "    </tr>\n",
              "    <tr>\n",
              "      <th>1</th>\n",
              "      <td>DB00575</td>\n",
              "      <td>DB00806</td>\n",
              "    </tr>\n",
              "    <tr>\n",
              "      <th>2</th>\n",
              "      <td>DB01242</td>\n",
              "      <td>DB08893</td>\n",
              "    </tr>\n",
              "    <tr>\n",
              "      <th>3</th>\n",
              "      <td>DB01151</td>\n",
              "      <td>DB08883</td>\n",
              "    </tr>\n",
              "    <tr>\n",
              "      <th>4</th>\n",
              "      <td>DB01235</td>\n",
              "      <td>DB01275</td>\n",
              "    </tr>\n",
              "    <tr>\n",
              "      <th>...</th>\n",
              "      <td>...</td>\n",
              "      <td>...</td>\n",
              "    </tr>\n",
              "    <tr>\n",
              "      <th>48509</th>\n",
              "      <td>DB00542</td>\n",
              "      <td>DB01354</td>\n",
              "    </tr>\n",
              "    <tr>\n",
              "      <th>48510</th>\n",
              "      <td>DB00476</td>\n",
              "      <td>DB01239</td>\n",
              "    </tr>\n",
              "    <tr>\n",
              "      <th>48511</th>\n",
              "      <td>DB00621</td>\n",
              "      <td>DB01120</td>\n",
              "    </tr>\n",
              "    <tr>\n",
              "      <th>48512</th>\n",
              "      <td>DB00808</td>\n",
              "      <td>DB01356</td>\n",
              "    </tr>\n",
              "    <tr>\n",
              "      <th>48513</th>\n",
              "      <td>DB00677</td>\n",
              "      <td>DB06287</td>\n",
              "    </tr>\n",
              "  </tbody>\n",
              "</table>\n",
              "<p>48514 rows × 2 columns</p>\n",
              "</div>\n",
              "      <button class=\"colab-df-convert\" onclick=\"convertToInteractive('df-b1202970-6086-4cbf-aab4-705709948089')\"\n",
              "              title=\"Convert this dataframe to an interactive table.\"\n",
              "              style=\"display:none;\">\n",
              "        \n",
              "  <svg xmlns=\"http://www.w3.org/2000/svg\" height=\"24px\"viewBox=\"0 0 24 24\"\n",
              "       width=\"24px\">\n",
              "    <path d=\"M0 0h24v24H0V0z\" fill=\"none\"/>\n",
              "    <path d=\"M18.56 5.44l.94 2.06.94-2.06 2.06-.94-2.06-.94-.94-2.06-.94 2.06-2.06.94zm-11 1L8.5 8.5l.94-2.06 2.06-.94-2.06-.94L8.5 2.5l-.94 2.06-2.06.94zm10 10l.94 2.06.94-2.06 2.06-.94-2.06-.94-.94-2.06-.94 2.06-2.06.94z\"/><path d=\"M17.41 7.96l-1.37-1.37c-.4-.4-.92-.59-1.43-.59-.52 0-1.04.2-1.43.59L10.3 9.45l-7.72 7.72c-.78.78-.78 2.05 0 2.83L4 21.41c.39.39.9.59 1.41.59.51 0 1.02-.2 1.41-.59l7.78-7.78 2.81-2.81c.8-.78.8-2.07 0-2.86zM5.41 20L4 18.59l7.72-7.72 1.47 1.35L5.41 20z\"/>\n",
              "  </svg>\n",
              "      </button>\n",
              "      \n",
              "  <style>\n",
              "    .colab-df-container {\n",
              "      display:flex;\n",
              "      flex-wrap:wrap;\n",
              "      gap: 12px;\n",
              "    }\n",
              "\n",
              "    .colab-df-convert {\n",
              "      background-color: #E8F0FE;\n",
              "      border: none;\n",
              "      border-radius: 50%;\n",
              "      cursor: pointer;\n",
              "      display: none;\n",
              "      fill: #1967D2;\n",
              "      height: 32px;\n",
              "      padding: 0 0 0 0;\n",
              "      width: 32px;\n",
              "    }\n",
              "\n",
              "    .colab-df-convert:hover {\n",
              "      background-color: #E2EBFA;\n",
              "      box-shadow: 0px 1px 2px rgba(60, 64, 67, 0.3), 0px 1px 3px 1px rgba(60, 64, 67, 0.15);\n",
              "      fill: #174EA6;\n",
              "    }\n",
              "\n",
              "    [theme=dark] .colab-df-convert {\n",
              "      background-color: #3B4455;\n",
              "      fill: #D2E3FC;\n",
              "    }\n",
              "\n",
              "    [theme=dark] .colab-df-convert:hover {\n",
              "      background-color: #434B5C;\n",
              "      box-shadow: 0px 1px 3px 1px rgba(0, 0, 0, 0.15);\n",
              "      filter: drop-shadow(0px 1px 2px rgba(0, 0, 0, 0.3));\n",
              "      fill: #FFFFFF;\n",
              "    }\n",
              "  </style>\n",
              "\n",
              "      <script>\n",
              "        const buttonEl =\n",
              "          document.querySelector('#df-b1202970-6086-4cbf-aab4-705709948089 button.colab-df-convert');\n",
              "        buttonEl.style.display =\n",
              "          google.colab.kernel.accessAllowed ? 'block' : 'none';\n",
              "\n",
              "        async function convertToInteractive(key) {\n",
              "          const element = document.querySelector('#df-b1202970-6086-4cbf-aab4-705709948089');\n",
              "          const dataTable =\n",
              "            await google.colab.kernel.invokeFunction('convertToInteractive',\n",
              "                                                     [key], {});\n",
              "          if (!dataTable) return;\n",
              "\n",
              "          const docLinkHtml = 'Like what you see? Visit the ' +\n",
              "            '<a target=\"_blank\" href=https://colab.research.google.com/notebooks/data_table.ipynb>data table notebook</a>'\n",
              "            + ' to learn more about interactive tables.';\n",
              "          element.innerHTML = '';\n",
              "          dataTable['output_type'] = 'display_data';\n",
              "          await google.colab.output.renderOutput(dataTable, element);\n",
              "          const docLink = document.createElement('div');\n",
              "          docLink.innerHTML = docLinkHtml;\n",
              "          element.appendChild(docLink);\n",
              "        }\n",
              "      </script>\n",
              "    </div>\n",
              "  </div>\n",
              "  "
            ]
          },
          "metadata": {},
          "execution_count": 10
        }
      ]
    },
    {
      "cell_type": "code",
      "source": [
        "# Networkx graph\n",
        "nx_graph = nx.from_pandas_edgelist(graph_df, source='Source', target='Target')"
      ],
      "metadata": {
        "id": "HusNtt_YCuFc"
      },
      "execution_count": null,
      "outputs": []
    },
    {
      "cell_type": "code",
      "source": [
        "# Visualize first 10 edges\n",
        "graph_part = nx.from_pandas_edgelist(graph_df[0:10], source='Source', target='Target')\n",
        "g = net.Network(notebook=True)\n",
        "g.from_nx(graph_part)\n",
        "nx.draw(graph_part, nx.spring_layout(graph_part, k=0.75, iterations=20), with_labels=True)"
      ],
      "metadata": {
        "colab": {
          "base_uri": "https://localhost:8080/",
          "height": 336
        },
        "id": "Jh-5xeTYG26T",
        "outputId": "1a2c379c-f2bf-44de-d4a2-f9494ea7d68e"
      },
      "execution_count": null,
      "outputs": [
        {
          "output_type": "stream",
          "name": "stdout",
          "text": [
            "Local cdn resources have problems on chrome/safari when used in jupyter-notebook. \n"
          ]
        },
        {
          "output_type": "display_data",
          "data": {
            "text/plain": [
              "<Figure size 432x288 with 1 Axes>"
            ],
            "image/png": "[encoded data removed]"
          },
          "metadata": {}
        }
      ]
    },
    {
      "cell_type": "markdown",
      "source": [
        "# Transform graph to PyTorch Geometric"
      ],
      "metadata": {
        "id": "yGhyOnv6v93F"
      }
    },
    {
      "cell_type": "code",
      "source": [
        "pyt_graph = from_networkx(nx_graph)"
      ],
      "metadata": {
        "id": "IepvOqgfwaWW"
      },
      "execution_count": null,
      "outputs": []
    },
    {
      "cell_type": "code",
      "source": [
        "pyt_graph"
      ],
      "metadata": {
        "colab": {
          "base_uri": "https://localhost:8080/"
        },
        "id": "46nJKfqwEHtX",
        "outputId": "bf0809d0-2d61-4189-f916-3ea7d1e32718"
      },
      "execution_count": null,
      "outputs": [
        {
          "output_type": "execute_result",
          "data": {
            "text/plain": [
              "Data(edge_index=[2, 97028], num_nodes=1514)"
            ]
          },
          "metadata": {},
          "execution_count": 14
        }
      ]
    },
    {
      "cell_type": "markdown",
      "source": [
        "# Train, val, test split"
      ],
      "metadata": {
        "id": "3FN5AnuWqg-Y"
      }
    },
    {
      "cell_type": "code",
      "source": [
        "# Shuffle the dataset's rows, so it is surely not sorted in any way.\n",
        "dataset = graph_df.sample(frac=1)"
      ],
      "metadata": {
        "id": "FSY_otNDqz03"
      },
      "execution_count": null,
      "outputs": []
    },
    {
      "cell_type": "code",
      "source": [
        "# Split the dataset as follows: 80% training, 10% validation, 10% test data\n",
        "tenth_len = dataset.shape[0] // 10\n",
        "\n",
        "X_train = dataset[0 : (8 * tenth_len)]\n",
        "X_val   = dataset[(8 * tenth_len) : (9 * tenth_len)]\n",
        "X_test  = dataset[(9 * tenth_len) : -1]\n",
        "\n",
        "# Chack the shapes\n",
        "print(X_train.shape)\n",
        "print(X_val.shape)\n",
        "print(X_test.shape)"
      ],
      "metadata": {
        "colab": {
          "base_uri": "https://localhost:8080/"
        },
        "id": "0L0hxX0hqnFh",
        "outputId": "a82757d7-65e2-4d4b-c2ce-521a25e47d04"
      },
      "execution_count": null,
      "outputs": [
        {
          "output_type": "stream",
          "name": "stdout",
          "text": [
            "(38808, 2)\n",
            "(4851, 2)\n",
            "(4854, 2)\n"
          ]
        }
      ]
    },
    {
      "cell_type": "code",
      "source": [
        "# Convert to PyTorch Geometric\n",
        "X_train = from_networkx(nx.from_pandas_edgelist(X_train, source='Source', target='Target'))\n",
        "X_val = from_networkx(nx.from_pandas_edgelist(X_val, source='Source', target='Target'))\n",
        "X_test = from_networkx(nx.from_pandas_edgelist(X_test, source='Source', target='Target'))"
      ],
      "metadata": {
        "id": "h9ebZu67wBKK"
      },
      "execution_count": null,
      "outputs": []
    }
  ]
}